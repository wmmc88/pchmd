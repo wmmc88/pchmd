{
 "cells": [
  {
   "cell_type": "code",
   "execution_count": 104,
   "outputs": [],
   "source": [
    "import math\n",
    "import matplotlib.pyplot as plt\n",
    "import numpy as np\n",
    "\n",
    "\n",
    "def get_rand_color():\n",
    "    return np.random.rand(), np.random.rand(), np.random.rand()\n"
   ],
   "metadata": {
    "collapsed": false,
    "pycharm": {
     "name": "#%%\n"
    }
   }
  },
  {
   "cell_type": "code",
   "execution_count": 105,
   "outputs": [],
   "source": [
    "# tunable parameters\n",
    "alpha = 0.3\n",
    "update_period = 0.2  # seconds"
   ],
   "metadata": {
    "collapsed": false,
    "pycharm": {
     "name": "#%%\n"
    }
   }
  },
  {
   "cell_type": "code",
   "execution_count": 106,
   "outputs": [
    {
     "name": "stdout",
     "output_type": "stream",
     "text": [
      "tau: 0.5607346504114258\n",
      "rise_time: 1.2336162309051368\n",
      "settling_time: 2.242938601645703\n"
     ]
    }
   ],
   "source": [
    "# Time Constant\n",
    "# https://en.wikipedia.org/wiki/Exponential_smoothing#Time_constant\n",
    "tau = - update_period / (math.log(1 - alpha))\n",
    "print(f'tau: {tau}')\n",
    "\n",
    "# Rise Time\n",
    "rise_time = 2.2 * tau  # Rise time of first order system\n",
    "print(f'rise_time: {rise_time}')\n",
    "\n",
    "# Settling Time\n",
    "settling_time = 4 * tau\n",
    "print(f'settling_time: {settling_time}')"
   ],
   "metadata": {
    "collapsed": false,
    "pycharm": {
     "name": "#%%\n"
    }
   }
  },
  {
   "cell_type": "code",
   "execution_count": 107,
   "outputs": [
    {
     "data": {
      "text/plain": "Text(0, 0.5, 'y')"
     },
     "execution_count": 107,
     "metadata": {},
     "output_type": "execute_result"
    },
    {
     "data": {
      "text/plain": "<Figure size 432x288 with 1 Axes>",
      "image/png": "[encoded data removed]"
     },
     "metadata": {
      "needs_background": "light"
     },
     "output_type": "display_data"
    }
   ],
   "source": [
    "# Recursive EWMA Definition\n",
    "# y = alpha * r + (1-alpha) * y_prev\n",
    "\n",
    "r = 1\n",
    "\n",
    "# Actual Implementation\n",
    "runtime = settling_time * 1.5\n",
    "iterations = math.ceil(runtime / update_period)\n",
    "y = 0\n",
    "y_vals = [y]\n",
    "t_vals = [0]\n",
    "for i in range(1, iterations + 1):\n",
    "    y -= alpha * y\n",
    "    y += alpha * r\n",
    "    y_vals.append(y)\n",
    "    t_vals.append(i * update_period)\n",
    "\n",
    "plt.rcParams['text.usetex'] = True\n",
    "plt.plot(t_vals, y_vals)\n",
    "plt.axvline(x=tau, color=get_rand_color(), label=r'$\\tau$')\n",
    "plt.axvline(x=rise_time, color=get_rand_color(), label='$t_{rise}$')\n",
    "plt.axvline(x=settling_time, color=get_rand_color(), label='$t_{settling}$')\n",
    "plt.legend()\n",
    "plt.xlabel(\"time (seconds)\")\n",
    "plt.ylabel(\"y\")\n"
   ],
   "metadata": {
    "collapsed": false,
    "pycharm": {
     "name": "#%%\n"
    }
   }
  }
 ],
 "metadata": {
  "kernelspec": {
   "display_name": "Python 3",
   "language": "python",
   "name": "python3"
  },
  "language_info": {
   "codemirror_mode": {
    "name": "ipython",
    "version": 2
   },
   "file_extension": ".py",
   "mimetype": "text/x-python",
   "name": "python",
   "nbconvert_exporter": "python",
   "pygments_lexer": "ipython2",
   "version": "2.7.6"
  }
 },
 "nbformat": 4,
 "nbformat_minor": 0
}